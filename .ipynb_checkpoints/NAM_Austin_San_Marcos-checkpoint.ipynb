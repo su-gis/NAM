{
 "cells": [
  {
   "cell_type": "code",
   "execution_count": 1,
   "metadata": {},
   "outputs": [
    {
     "name": "stderr",
     "output_type": "stream",
     "text": [
      "C:\\Users\\Suzie\\miniconda3\\envs\\geosnap11\\lib\\site-packages\\geopandas\\_compat.py:124: UserWarning: The Shapely GEOS version (3.11.1-CAPI-1.17.1) is incompatible with the GEOS version PyGEOS was compiled with (3.10.4-CAPI-1.16.2). Conversions between both will be slow.\n",
      "  warnings.warn(\n",
      "Q:\\TEMP\\ipykernel_2360\\1725118126.py:2: DeprecationWarning: Shapely 2.0 is installed, but because PyGEOS is also installed, GeoPandas still uses PyGEOS by default. However, starting with version 0.14, the default will switch to Shapely. To force to use Shapely 2.0 now, you can either uninstall PyGEOS or set the environment variable USE_PYGEOS=0. You can do this before starting the Python process, or in your code before importing geopandas:\n",
      "\n",
      "import os\n",
      "os.environ['USE_PYGEOS'] = '0'\n",
      "import geopandas\n",
      "\n",
      "In the next release, GeoPandas will switch to using Shapely by default, even if PyGEOS is installed. If you only have PyGEOS installed to get speed-ups, this switch should be smooth. However, if you are using PyGEOS directly (calling PyGEOS functions on geometries from GeoPandas), this will then stop working and you are encouraged to migrate from PyGEOS to Shapely 2.0 (https://shapely.readthedocs.io/en/latest/migration_pygeos.html).\n",
      "  import geopandas as gpd\n",
      "C:\\Users\\Suzie\\miniconda3\\envs\\geosnap11\\lib\\site-packages\\libpysal\\cg\\alpha_shapes.py:39: NumbaDeprecationWarning: \u001b[1mThe 'nopython' keyword argument was not supplied to the 'numba.jit' decorator. The implicit default value for this argument is currently False, but it will be changed to True in Numba 0.59.0. See https://numba.readthedocs.io/en/stable/reference/deprecation.html#deprecation-of-object-mode-fall-back-behaviour-when-using-jit for details.\u001b[0m\n",
      "  def nb_dist(x, y):\n",
      "C:\\Users\\Suzie\\miniconda3\\envs\\geosnap11\\lib\\site-packages\\libpysal\\cg\\alpha_shapes.py:165: NumbaDeprecationWarning: \u001b[1mThe 'nopython' keyword argument was not supplied to the 'numba.jit' decorator. The implicit default value for this argument is currently False, but it will be changed to True in Numba 0.59.0. See https://numba.readthedocs.io/en/stable/reference/deprecation.html#deprecation-of-object-mode-fall-back-behaviour-when-using-jit for details.\u001b[0m\n",
      "  def get_faces(triangle):\n",
      "C:\\Users\\Suzie\\miniconda3\\envs\\geosnap11\\lib\\site-packages\\libpysal\\cg\\alpha_shapes.py:199: NumbaDeprecationWarning: \u001b[1mThe 'nopython' keyword argument was not supplied to the 'numba.jit' decorator. The implicit default value for this argument is currently False, but it will be changed to True in Numba 0.59.0. See https://numba.readthedocs.io/en/stable/reference/deprecation.html#deprecation-of-object-mode-fall-back-behaviour-when-using-jit for details.\u001b[0m\n",
      "  def build_faces(faces, triangles_is, num_triangles, num_faces_single):\n",
      "C:\\Users\\Suzie\\miniconda3\\envs\\geosnap11\\lib\\site-packages\\libpysal\\cg\\alpha_shapes.py:261: NumbaDeprecationWarning: \u001b[1mThe 'nopython' keyword argument was not supplied to the 'numba.jit' decorator. The implicit default value for this argument is currently False, but it will be changed to True in Numba 0.59.0. See https://numba.readthedocs.io/en/stable/reference/deprecation.html#deprecation-of-object-mode-fall-back-behaviour-when-using-jit for details.\u001b[0m\n",
      "  def nb_mask_faces(mask, faces):\n",
      "C:\\Users\\Suzie\\miniconda3\\envs\\geosnap11\\lib\\site-packages\\geosnap\\_data.py:66: UserWarning: The geosnap data storage class is provided for convenience only. The geosnap developers make no promises regarding data quality, consistency, or availability, nor are they responsible for any use/misuse of the data. The end-user is responsible for any and all analyses or applications created with the package.\n",
      "  warn(\n",
      "C:\\Users\\Suzie\\miniconda3\\envs\\geosnap11\\lib\\site-packages\\tqdm\\auto.py:21: TqdmWarning: IProgress not found. Please update jupyter and ipywidgets. See https://ipywidgets.readthedocs.io/en/stable/user_install.html\n",
      "  from .autonotebook import tqdm as notebook_tqdm\n",
      "C:\\Users\\Suzie\\miniconda3\\envs\\geosnap11\\lib\\site-packages\\geosnap\\_data.py:66: UserWarning: The geosnap data storage class is provided for convenience only. The geosnap developers make no promises regarding data quality, consistency, or availability, nor are they responsible for any use/misuse of the data. The end-user is responsible for any and all analyses or applications created with the package.\n",
      "  warn(\n"
     ]
    }
   ],
   "source": [
    "import pandas as pd\n",
    "import geopandas as gpd\n",
    "from Neighborhood_Analysis_Mapper import Clustering_viz\n",
    "from Neighborhood_Analysis_Mapper import Clustering_log"
   ]
  },
  {
   "cell_type": "markdown",
   "metadata": {},
   "source": [
    "# Austin"
   ]
  },
  {
   "cell_type": "code",
   "execution_count": 2,
   "metadata": {},
   "outputs": [
    {
     "name": "stderr",
     "output_type": "stream",
     "text": [
      "C:\\Users\\Suzie\\miniconda3\\envs\\geosnap11\\lib\\site-packages\\geosnap\\_data.py:66: UserWarning: The geosnap data storage class is provided for convenience only. The geosnap developers make no promises regarding data quality, consistency, or availability, nor are they responsible for any use/misuse of the data. The end-user is responsible for any and all analyses or applications created with the package.\n",
      "  warn(\n",
      "C:\\Users\\Suzie\\miniconda3\\envs\\geosnap11\\lib\\site-packages\\sklearn\\cluster\\_kmeans.py:1416: FutureWarning: algorithm='auto' is deprecated, it will be removed in 1.3. Using 'lloyd' instead.\n",
      "  warnings.warn(\n",
      "C:\\Users\\Suzie\\miniconda3\\envs\\geosnap11\\lib\\site-packages\\scipy\\cluster\\hierarchy.py:834: ClusterWarning: scipy.cluster: The symmetric non-negative hollow observation matrix looks suspiciously like an uncondensed distance matrix\n",
      "  return linkage(y, method='ward', metric='euclidean')\n"
     ]
    },
    {
     "ename": "KeyError",
     "evalue": "'geoid'",
     "output_type": "error",
     "traceback": [
      "\u001b[1;31m---------------------------------------------------------------------------\u001b[0m",
      "\u001b[1;31mKeyError\u001b[0m                                  Traceback (most recent call last)",
      "File \u001b[1;32m~\\miniconda3\\envs\\geosnap11\\lib\\site-packages\\pandas\\core\\indexes\\base.py:3802\u001b[0m, in \u001b[0;36mIndex.get_loc\u001b[1;34m(self, key, method, tolerance)\u001b[0m\n\u001b[0;32m   3801\u001b[0m \u001b[38;5;28;01mtry\u001b[39;00m:\n\u001b[1;32m-> 3802\u001b[0m     \u001b[38;5;28;01mreturn\u001b[39;00m \u001b[38;5;28;43mself\u001b[39;49m\u001b[38;5;241;43m.\u001b[39;49m\u001b[43m_engine\u001b[49m\u001b[38;5;241;43m.\u001b[39;49m\u001b[43mget_loc\u001b[49m\u001b[43m(\u001b[49m\u001b[43mcasted_key\u001b[49m\u001b[43m)\u001b[49m\n\u001b[0;32m   3803\u001b[0m \u001b[38;5;28;01mexcept\u001b[39;00m \u001b[38;5;167;01mKeyError\u001b[39;00m \u001b[38;5;28;01mas\u001b[39;00m err:\n",
      "File \u001b[1;32m~\\miniconda3\\envs\\geosnap11\\lib\\site-packages\\pandas\\_libs\\index.pyx:138\u001b[0m, in \u001b[0;36mpandas._libs.index.IndexEngine.get_loc\u001b[1;34m()\u001b[0m\n",
      "File \u001b[1;32m~\\miniconda3\\envs\\geosnap11\\lib\\site-packages\\pandas\\_libs\\index.pyx:165\u001b[0m, in \u001b[0;36mpandas._libs.index.IndexEngine.get_loc\u001b[1;34m()\u001b[0m\n",
      "File \u001b[1;32mpandas\\_libs\\hashtable_class_helper.pxi:5745\u001b[0m, in \u001b[0;36mpandas._libs.hashtable.PyObjectHashTable.get_item\u001b[1;34m()\u001b[0m\n",
      "File \u001b[1;32mpandas\\_libs\\hashtable_class_helper.pxi:5753\u001b[0m, in \u001b[0;36mpandas._libs.hashtable.PyObjectHashTable.get_item\u001b[1;34m()\u001b[0m\n",
      "\u001b[1;31mKeyError\u001b[0m: 'geoid'",
      "\nThe above exception was the direct cause of the following exception:\n",
      "\u001b[1;31mKeyError\u001b[0m                                  Traceback (most recent call last)",
      "Cell \u001b[1;32mIn[2], line 47\u001b[0m\n\u001b[0;32m      1\u001b[0m \u001b[38;5;66;03m# LA 31080, San Diego 41740, Albertville 10700, NY 35620\u001b[39;00m\n\u001b[0;32m      2\u001b[0m param \u001b[38;5;241m=\u001b[39m {\n\u001b[0;32m      3\u001b[0m     \u001b[38;5;124m'\u001b[39m\u001b[38;5;124mtitle\u001b[39m\u001b[38;5;124m'\u001b[39m: \u001b[38;5;124m\"\u001b[39m\u001b[38;5;124mLongitudinal Negihborhood Change, Austin, TX\u001b[39m\u001b[38;5;124m\"\u001b[39m,\n\u001b[0;32m      4\u001b[0m     \u001b[38;5;66;03m#'filename_suffix': \"SD_2_INC_neighborhood\",  \u001b[39;00m\n\u001b[1;32m   (...)\u001b[0m\n\u001b[0;32m     45\u001b[0m     \u001b[38;5;124m'\u001b[39m\u001b[38;5;124mHorizonalBarChart\u001b[39m\u001b[38;5;124m'\u001b[39m: \u001b[38;5;28;01mTrue\u001b[39;00m     \n\u001b[0;32m     46\u001b[0m }\n\u001b[1;32m---> 47\u001b[0m \u001b[43mClustering_viz\u001b[49m\u001b[43m(\u001b[49m\u001b[43mparam\u001b[49m\u001b[43m)\u001b[49m\n\u001b[0;32m     48\u001b[0m Clustering_log()\n",
      "File \u001b[1;32mE:\\Dropbox\\Gitub\\GEOSNAP2NAM\\Neighborhood_Analysis_Mapper.py:1109\u001b[0m, in \u001b[0;36mClustering_viz\u001b[1;34m(param)\u001b[0m\n\u001b[0;32m   1107\u001b[0m     write_INDEX_html(param)\n\u001b[0;32m   1108\u001b[0m     write_GEO_CONFIG_js(param)\n\u001b[1;32m-> 1109\u001b[0m     \u001b[43mwrite_GEO_VARIABLES_js\u001b[49m\u001b[43m(\u001b[49m\u001b[43mcommunity\u001b[49m\u001b[43m,\u001b[49m\u001b[43m \u001b[49m\u001b[43mparam\u001b[49m\u001b[43m)\u001b[49m\n\u001b[0;32m   1110\u001b[0m     write_GEO_JSON_js(community, param)\n\u001b[0;32m   1112\u001b[0m \u001b[38;5;28;01mif\u001b[39;00m (metros \u001b[38;5;129;01mis\u001b[39;00m \u001b[38;5;129;01mnot\u001b[39;00m \u001b[38;5;28;01mNone\u001b[39;00m):\n",
      "File \u001b[1;32mE:\\Dropbox\\Gitub\\GEOSNAP2NAM\\Neighborhood_Analysis_Mapper.py:554\u001b[0m, in \u001b[0;36mwrite_GEO_VARIABLES_js\u001b[1;34m(community, param)\u001b[0m\n\u001b[0;32m    548\u001b[0m clusters_flattened \u001b[38;5;241m=\u001b[39m pd\u001b[38;5;241m.\u001b[39mDataFrame(df_pivot\u001b[38;5;241m.\u001b[39mto_records())                   \u001b[38;5;66;03m# convert pivot to data frame\u001b[39;00m\n\u001b[0;32m    549\u001b[0m \u001b[38;5;66;03m#clusters_flattened.to_csv(r'output_clusters_flattened.csv')\u001b[39;00m\n\u001b[0;32m    550\u001b[0m \n\u001b[0;32m    551\u001b[0m \u001b[38;5;66;03m# drop the rows if Sequence is NaN\u001b[39;00m\n\u001b[0;32m    552\u001b[0m \u001b[38;5;66;03m#clusters_flattened = clusters_flattened[clusters_flattened.Sequence.notnull()].reset_index(drop=True)\u001b[39;00m\n\u001b[0;32m    553\u001b[0m \u001b[38;5;66;03m#clusters_flattened = clusters_flattened.reset_index(drop=True)\u001b[39;00m\n\u001b[1;32m--> 554\u001b[0m geoids \u001b[38;5;241m=\u001b[39m \u001b[43mclusters_flattened\u001b[49m\u001b[43m[\u001b[49m\u001b[38;5;124;43m\"\u001b[39;49m\u001b[38;5;124;43mgeoid\u001b[39;49m\u001b[38;5;124;43m\"\u001b[39;49m\u001b[43m]\u001b[49m\u001b[38;5;241m.\u001b[39mtolist()                              \u001b[38;5;66;03m# get list of geoids from pivot\u001b[39;00m\n\u001b[0;32m    555\u001b[0m \u001b[38;5;66;03m#print('clusters_flattened: ', type(clusters_flattened));  print(clusters_flattened)\u001b[39;00m\n\u001b[0;32m    557\u001b[0m lastClusterNo \u001b[38;5;241m=\u001b[39m \u001b[38;5;241m0\u001b[39m\n",
      "File \u001b[1;32m~\\miniconda3\\envs\\geosnap11\\lib\\site-packages\\pandas\\core\\frame.py:3807\u001b[0m, in \u001b[0;36mDataFrame.__getitem__\u001b[1;34m(self, key)\u001b[0m\n\u001b[0;32m   3805\u001b[0m \u001b[38;5;28;01mif\u001b[39;00m \u001b[38;5;28mself\u001b[39m\u001b[38;5;241m.\u001b[39mcolumns\u001b[38;5;241m.\u001b[39mnlevels \u001b[38;5;241m>\u001b[39m \u001b[38;5;241m1\u001b[39m:\n\u001b[0;32m   3806\u001b[0m     \u001b[38;5;28;01mreturn\u001b[39;00m \u001b[38;5;28mself\u001b[39m\u001b[38;5;241m.\u001b[39m_getitem_multilevel(key)\n\u001b[1;32m-> 3807\u001b[0m indexer \u001b[38;5;241m=\u001b[39m \u001b[38;5;28;43mself\u001b[39;49m\u001b[38;5;241;43m.\u001b[39;49m\u001b[43mcolumns\u001b[49m\u001b[38;5;241;43m.\u001b[39;49m\u001b[43mget_loc\u001b[49m\u001b[43m(\u001b[49m\u001b[43mkey\u001b[49m\u001b[43m)\u001b[49m\n\u001b[0;32m   3808\u001b[0m \u001b[38;5;28;01mif\u001b[39;00m is_integer(indexer):\n\u001b[0;32m   3809\u001b[0m     indexer \u001b[38;5;241m=\u001b[39m [indexer]\n",
      "File \u001b[1;32m~\\miniconda3\\envs\\geosnap11\\lib\\site-packages\\pandas\\core\\indexes\\base.py:3804\u001b[0m, in \u001b[0;36mIndex.get_loc\u001b[1;34m(self, key, method, tolerance)\u001b[0m\n\u001b[0;32m   3802\u001b[0m     \u001b[38;5;28;01mreturn\u001b[39;00m \u001b[38;5;28mself\u001b[39m\u001b[38;5;241m.\u001b[39m_engine\u001b[38;5;241m.\u001b[39mget_loc(casted_key)\n\u001b[0;32m   3803\u001b[0m \u001b[38;5;28;01mexcept\u001b[39;00m \u001b[38;5;167;01mKeyError\u001b[39;00m \u001b[38;5;28;01mas\u001b[39;00m err:\n\u001b[1;32m-> 3804\u001b[0m     \u001b[38;5;28;01mraise\u001b[39;00m \u001b[38;5;167;01mKeyError\u001b[39;00m(key) \u001b[38;5;28;01mfrom\u001b[39;00m \u001b[38;5;21;01merr\u001b[39;00m\n\u001b[0;32m   3805\u001b[0m \u001b[38;5;28;01mexcept\u001b[39;00m \u001b[38;5;167;01mTypeError\u001b[39;00m:\n\u001b[0;32m   3806\u001b[0m     \u001b[38;5;66;03m# If we have a listlike key, _check_indexing_error will raise\u001b[39;00m\n\u001b[0;32m   3807\u001b[0m     \u001b[38;5;66;03m#  InvalidIndexError. Otherwise we fall through and re-raise\u001b[39;00m\n\u001b[0;32m   3808\u001b[0m     \u001b[38;5;66;03m#  the TypeError.\u001b[39;00m\n\u001b[0;32m   3809\u001b[0m     \u001b[38;5;28mself\u001b[39m\u001b[38;5;241m.\u001b[39m_check_indexing_error(key)\n",
      "\u001b[1;31mKeyError\u001b[0m: 'geoid'"
     ]
    }
   ],
   "source": [
    "# LA 31080, San Diego 41740, Albertville 10700, NY 35620\n",
    "param = {\n",
    "    'title': \"Longitudinal Negihborhood Change, Austin, TX\",\n",
    "    #'filename_suffix': \"SD_2_INC_neighborhood\",  \n",
    "    'filename_suffix': \"Austin_GEOSNAP2\",      \n",
    "    'state_fips': None,\n",
    "    'msa_fips': \"12420\",                         # For more options: http://sarasen.asuscomm.com/LNE/pick_POI.html\n",
    "    'county_fips': None,\n",
    "    'years': [1980, 1990, 2000, 2010],           # Available years: 1970, 1980, 1990, 2000 and 2010\n",
    "    'method': \"kmeans\",                          # Aspatial Clustering: affinity_propagation, gaussian_mixture, hdbscan, kmeans, spectral, ward\n",
    "                                                 # Spatial Clustering: azp, max_p, skater, spenc, ward_spatial   \n",
    "    'nClusters': 6,                              # This option should be commented out for affinity_propagation, hdbscan and max_p \n",
    "    'variables': [\n",
    "          \"p_nonhisp_white_persons\",\n",
    "          \"p_nonhisp_black_persons\",\n",
    "          \"p_hispanic_persons\",\n",
    "          \"p_asian_persons\",\n",
    "          \"p_foreign_born_pop\",\n",
    "          \"p_edu_college_greater\",\n",
    "          \"p_unemployment_rate\",\n",
    "          \"p_employed_manufacturing\",\n",
    "          \"p_poverty_rate\",\n",
    "          \"p_vacant_housing_units\",\n",
    "          \"p_owner_occupied_units\",\n",
    "          \"p_housing_units_multiunit_structures\",\n",
    "          \"median_home_value\",\n",
    "          \"p_structures_30_old\",\n",
    "          \"p_household_recent_move\",\n",
    "          \"p_persons_under_18\",\n",
    "          \"p_persons_over_60\",\t        \n",
    "                 ],\n",
    "    'Sequence': True,\n",
    "    # optional visualization below.\n",
    "    'Index_of_neighborhood_change': True,        #choropleth map: Maps representing index of neighborhood Change\n",
    "    'Qualitative_Maps': True,                #choropleth map: Maps representing clustering result\t\t\n",
    "    'Distribution_INC1': True,                   #density chart: INC changes as the map extent changes \n",
    "    'Distribution_INC2_different_period': True,  #density chart: INC changes by different years\n",
    "    'Distribution_INC2_different_cluster': True, #density chart: INC changes by different clusters\n",
    "    'Stacked_Chart': True,    #stacked chart: Temporal Change in Neighborhoods over years\t\t\n",
    "    'Parallel_Categories_Diagram': True,\n",
    "    'Chord_Diagram': True, \n",
    "    'HeatmapTitle': \"Z Score Means across Different Neighborhood Types\",\n",
    "    'HorizonalBarChart': True,\n",
    "    'Horizontal_Bar_Title': \"Z Score Means in \",\n",
    "    'HorizonalBarChart': True     \n",
    "}\n",
    "Clustering_viz(param)\n",
    "Clustering_log()"
   ]
  },
  {
   "cell_type": "markdown",
   "metadata": {},
   "source": [
    "# San Marcos"
   ]
  },
  {
   "cell_type": "code",
   "execution_count": 3,
   "metadata": {},
   "outputs": [
    {
     "ename": "ImportError",
     "evalue": "Unable to find a usable engine; tried using: 'pyarrow', 'fastparquet'.\nA suitable version of pyarrow or fastparquet is required for parquet support.\nTrying to import the above resulted in these errors:\n - DLL load failed while importing _parquet: Not enough memory resources are available to process this command.\n - Missing optional dependency 'fastparquet'. fastparquet is required for parquet support. Use pip or conda to install fastparquet.",
     "output_type": "error",
     "traceback": [
      "\u001b[1;31m---------------------------------------------------------------------------\u001b[0m",
      "\u001b[1;31mImportError\u001b[0m                               Traceback (most recent call last)",
      "\u001b[1;32mQ:\\TEMP/ipykernel_2680/2443250865.py\u001b[0m in \u001b[0;36m<module>\u001b[1;34m\u001b[0m\n\u001b[0;32m     41\u001b[0m     \u001b[1;34m'Chord_Diagram_in_neighborhoods'\u001b[0m\u001b[1;33m:\u001b[0m \u001b[1;32mFalse\u001b[0m\u001b[1;33m,\u001b[0m\u001b[1;33m\u001b[0m\u001b[1;33m\u001b[0m\u001b[0m\n\u001b[0;32m     42\u001b[0m }\n\u001b[1;32m---> 43\u001b[1;33m \u001b[0mClustering_viz\u001b[0m\u001b[1;33m(\u001b[0m\u001b[0mparam\u001b[0m\u001b[1;33m)\u001b[0m\u001b[1;33m\u001b[0m\u001b[1;33m\u001b[0m\u001b[0m\n\u001b[0m\u001b[0;32m     44\u001b[0m \u001b[0mClustering_log\u001b[0m\u001b[1;33m(\u001b[0m\u001b[1;33m)\u001b[0m\u001b[1;33m\u001b[0m\u001b[1;33m\u001b[0m\u001b[0m\n",
      "\u001b[1;32mH:\\My Drive\\software\\GEOSNAP2NAM\\Neighborhood_Analysis_Mapper.py\u001b[0m in \u001b[0;36mClustering_viz\u001b[1;34m(param)\u001b[0m\n\u001b[0;32m    816\u001b[0m                 \u001b[0mprint\u001b[0m\u001b[1;33m(\u001b[0m\u001b[0mmetros\u001b[0m\u001b[1;33m)\u001b[0m\u001b[1;33m\u001b[0m\u001b[1;33m\u001b[0m\u001b[0m\n\u001b[0;32m    817\u001b[0m         \u001b[1;32melif\u001b[0m \u001b[1;33m(\u001b[0m\u001b[1;34m'msa_fips'\u001b[0m \u001b[1;32min\u001b[0m \u001b[0mparam\u001b[0m \u001b[1;32mand\u001b[0m \u001b[0mparam\u001b[0m\u001b[1;33m[\u001b[0m\u001b[1;34m'msa_fips'\u001b[0m\u001b[1;33m]\u001b[0m\u001b[1;33m)\u001b[0m\u001b[1;33m:\u001b[0m\u001b[1;33m\u001b[0m\u001b[1;33m\u001b[0m\u001b[0m\n\u001b[1;32m--> 818\u001b[1;33m                 \u001b[0mcommunity\u001b[0m \u001b[1;33m=\u001b[0m \u001b[0mCommunity\u001b[0m\u001b[1;33m.\u001b[0m\u001b[0mfrom_ltdb\u001b[0m\u001b[1;33m(\u001b[0m\u001b[0myears\u001b[0m\u001b[1;33m=\u001b[0m\u001b[0mparam\u001b[0m\u001b[1;33m[\u001b[0m\u001b[1;34m'years'\u001b[0m\u001b[1;33m]\u001b[0m\u001b[1;33m,\u001b[0m \u001b[0mmsa_fips\u001b[0m\u001b[1;33m=\u001b[0m\u001b[0mparam\u001b[0m\u001b[1;33m[\u001b[0m\u001b[1;34m'msa_fips'\u001b[0m\u001b[1;33m]\u001b[0m\u001b[1;33m)\u001b[0m\u001b[1;33m\u001b[0m\u001b[1;33m\u001b[0m\u001b[0m\n\u001b[0m\u001b[0;32m    819\u001b[0m                 \u001b[1;31m#community = Community.from_ltdb(msa_fips=param['msa_fips'])\u001b[0m\u001b[1;33m\u001b[0m\u001b[1;33m\u001b[0m\u001b[1;33m\u001b[0m\u001b[0m\n\u001b[0;32m    820\u001b[0m         \u001b[1;32melif\u001b[0m \u001b[1;33m(\u001b[0m\u001b[1;34m'county_fips'\u001b[0m \u001b[1;32min\u001b[0m \u001b[0mparam\u001b[0m \u001b[1;32mand\u001b[0m \u001b[0mparam\u001b[0m\u001b[1;33m[\u001b[0m\u001b[1;34m'county_fips'\u001b[0m\u001b[1;33m]\u001b[0m\u001b[1;33m)\u001b[0m\u001b[1;33m:\u001b[0m\u001b[1;33m\u001b[0m\u001b[1;33m\u001b[0m\u001b[0m\n",
      "\u001b[1;32m~\\miniconda3\\envs\\geosnap6\\lib\\site-packages\\geosnap\\_community.py\u001b[0m in \u001b[0;36mfrom_ltdb\u001b[1;34m(cls, state_fips, county_fips, msa_fips, fips, boundary, years)\u001b[0m\n\u001b[0;32m   1513\u001b[0m         \u001b[1;32melse\u001b[0m\u001b[1;33m:\u001b[0m\u001b[1;33m\u001b[0m\u001b[1;33m\u001b[0m\u001b[0m\n\u001b[0;32m   1514\u001b[0m             gdf = _from_db(\n\u001b[1;32m-> 1515\u001b[1;33m                 \u001b[0mdata\u001b[0m\u001b[1;33m=\u001b[0m\u001b[0mdatasets\u001b[0m\u001b[1;33m.\u001b[0m\u001b[0mltdb\u001b[0m\u001b[1;33m(\u001b[0m\u001b[1;33m)\u001b[0m\u001b[1;33m,\u001b[0m\u001b[1;33m\u001b[0m\u001b[1;33m\u001b[0m\u001b[0m\n\u001b[0m\u001b[0;32m   1516\u001b[0m                 \u001b[0mstate_fips\u001b[0m\u001b[1;33m=\u001b[0m\u001b[0mstate_fips\u001b[0m\u001b[1;33m,\u001b[0m\u001b[1;33m\u001b[0m\u001b[1;33m\u001b[0m\u001b[0m\n\u001b[0;32m   1517\u001b[0m                 \u001b[0mcounty_fips\u001b[0m\u001b[1;33m=\u001b[0m\u001b[0mcounty_fips\u001b[0m\u001b[1;33m,\u001b[0m\u001b[1;33m\u001b[0m\u001b[1;33m\u001b[0m\u001b[0m\n",
      "\u001b[1;32m~\\miniconda3\\envs\\geosnap6\\lib\\site-packages\\geosnap\\_data.py\u001b[0m in \u001b[0;36mltdb\u001b[1;34m(self)\u001b[0m\n\u001b[0;32m    384\u001b[0m         \"\"\"\n\u001b[0;32m    385\u001b[0m         \u001b[1;32mtry\u001b[0m\u001b[1;33m:\u001b[0m\u001b[1;33m\u001b[0m\u001b[1;33m\u001b[0m\u001b[0m\n\u001b[1;32m--> 386\u001b[1;33m             \u001b[1;32mreturn\u001b[0m \u001b[0mpd\u001b[0m\u001b[1;33m.\u001b[0m\u001b[0mread_parquet\u001b[0m\u001b[1;33m(\u001b[0m\u001b[0mpathlib\u001b[0m\u001b[1;33m.\u001b[0m\u001b[0mPath\u001b[0m\u001b[1;33m(\u001b[0m\u001b[0mdata_dir\u001b[0m\u001b[1;33m,\u001b[0m \u001b[1;34m\"ltdb.parquet\"\u001b[0m\u001b[1;33m)\u001b[0m\u001b[1;33m)\u001b[0m\u001b[1;33m\u001b[0m\u001b[1;33m\u001b[0m\u001b[0m\n\u001b[0m\u001b[0;32m    387\u001b[0m         \u001b[1;32mexcept\u001b[0m \u001b[0mKeyError\u001b[0m\u001b[1;33m:\u001b[0m\u001b[1;33m\u001b[0m\u001b[1;33m\u001b[0m\u001b[0m\n\u001b[0;32m    388\u001b[0m             print(\n",
      "\u001b[1;32m~\\miniconda3\\envs\\geosnap6\\lib\\site-packages\\pandas\\io\\parquet.py\u001b[0m in \u001b[0;36mread_parquet\u001b[1;34m(path, engine, columns, storage_options, use_nullable_dtypes, **kwargs)\u001b[0m\n\u001b[0;32m    491\u001b[0m     \u001b[0mDataFrame\u001b[0m\u001b[1;33m\u001b[0m\u001b[1;33m\u001b[0m\u001b[0m\n\u001b[0;32m    492\u001b[0m     \"\"\"\n\u001b[1;32m--> 493\u001b[1;33m     \u001b[0mimpl\u001b[0m \u001b[1;33m=\u001b[0m \u001b[0mget_engine\u001b[0m\u001b[1;33m(\u001b[0m\u001b[0mengine\u001b[0m\u001b[1;33m)\u001b[0m\u001b[1;33m\u001b[0m\u001b[1;33m\u001b[0m\u001b[0m\n\u001b[0m\u001b[0;32m    494\u001b[0m \u001b[1;33m\u001b[0m\u001b[0m\n\u001b[0;32m    495\u001b[0m     return impl.read(\n",
      "\u001b[1;32m~\\miniconda3\\envs\\geosnap6\\lib\\site-packages\\pandas\\io\\parquet.py\u001b[0m in \u001b[0;36mget_engine\u001b[1;34m(engine)\u001b[0m\n\u001b[0;32m     51\u001b[0m                 \u001b[0merror_msgs\u001b[0m \u001b[1;33m+=\u001b[0m \u001b[1;34m\"\\n - \"\u001b[0m \u001b[1;33m+\u001b[0m \u001b[0mstr\u001b[0m\u001b[1;33m(\u001b[0m\u001b[0merr\u001b[0m\u001b[1;33m)\u001b[0m\u001b[1;33m\u001b[0m\u001b[1;33m\u001b[0m\u001b[0m\n\u001b[0;32m     52\u001b[0m \u001b[1;33m\u001b[0m\u001b[0m\n\u001b[1;32m---> 53\u001b[1;33m         raise ImportError(\n\u001b[0m\u001b[0;32m     54\u001b[0m             \u001b[1;34m\"Unable to find a usable engine; \"\u001b[0m\u001b[1;33m\u001b[0m\u001b[1;33m\u001b[0m\u001b[0m\n\u001b[0;32m     55\u001b[0m             \u001b[1;34m\"tried using: 'pyarrow', 'fastparquet'.\\n\"\u001b[0m\u001b[1;33m\u001b[0m\u001b[1;33m\u001b[0m\u001b[0m\n",
      "\u001b[1;31mImportError\u001b[0m: Unable to find a usable engine; tried using: 'pyarrow', 'fastparquet'.\nA suitable version of pyarrow or fastparquet is required for parquet support.\nTrying to import the above resulted in these errors:\n - DLL load failed while importing _parquet: Not enough memory resources are available to process this command.\n - Missing optional dependency 'fastparquet'. fastparquet is required for parquet support. Use pip or conda to install fastparquet."
     ]
    }
   ],
   "source": [
    "# LA 31080, San Diego 41740, Albertville 10700, NY 35620\n",
    "param = {\n",
    "    'title': \"Longitudinal Negihborhood Change, Austin, TX\",\n",
    "    #'filename_suffix': \"SD_2_INC_neighborhood\",  \n",
    "    'filename_suffix': \"San_Marcos_GEOSNAP\",      \n",
    "    'state_fips': None,\n",
    "    'msa_fips': \"41700\",                         # For more options: http://sarasen.asuscomm.com/LNE/pick_POI.html\n",
    "    'county_fips': None,\n",
    "    'years': [1980, 1990, 2000, 2010],           # Available years: 1970, 1980, 1990, 2000 and 2010\n",
    "    'method': \"kmeans\",                          # Aspatial Clustering: affinity_propagation, gaussian_mixture, hdbscan, kmeans, spectral, ward\n",
    "                                                 # Spatial Clustering: azp, max_p, skater, spenc, ward_spatial   \n",
    "    'nClusters': 6,                              # This option should be commented out for affinity_propagation, hdbscan and max_p \n",
    "    'variables': [\n",
    "          \"p_nonhisp_white_persons\",\n",
    "          \"p_nonhisp_black_persons\",\n",
    "          \"p_hispanic_persons\",\n",
    "          \"p_asian_persons\",\n",
    "          \"p_foreign_born_pop\",\n",
    "          \"p_edu_college_greater\",\n",
    "          \"p_unemployment_rate\",\n",
    "          \"p_employed_manufacturing\",\n",
    "          \"p_poverty_rate\",\n",
    "          \"p_vacant_housing_units\",\n",
    "          \"p_owner_occupied_units\",\n",
    "          \"p_housing_units_multiunit_structures\",\n",
    "          \"median_home_value\",\n",
    "          \"p_structures_30_old\",\n",
    "          \"p_household_recent_move\",\n",
    "          \"p_persons_under_18\",\n",
    "          \"p_persons_over_60\",\t        \n",
    "                 ],\n",
    "    'Sequence': True,\n",
    "    # optional visualization below.\n",
    "    'Index_of_neighborhood_change': False,        #choropleth map: Maps representing index of neighborhood Change\n",
    "    'Maps_of_neighborhood': True,                #choropleth map: Maps representing clustering result\t\t\n",
    "    'Distribution_INC1': False,                   #density chart: INC changes as the map extent changes \n",
    "    'Distribution_INC2_different_period': False,  #density chart: INC changes by different years\n",
    "    'Distribution_INC2_different_cluster': False, #density chart: INC changes by different clusters\n",
    "    'Temporal_change_in_neighborhoods': True,    #stacked chart: Temporal Change in Neighborhoods over years\t\t\n",
    "    'Parallel_Categories_Diagram_in_neighborhoods': True,\n",
    "    'Chord_Diagram_in_neighborhoods': False, \n",
    "}\n",
    "Clustering_viz(param)\n",
    "Clustering_log()"
   ]
  },
  {
   "cell_type": "code",
   "execution_count": 53,
   "metadata": {},
   "outputs": [
    {
     "name": "stderr",
     "output_type": "stream",
     "text": [
      "C:\\Users\\Suzie\\Anaconda3\\envs\\geosnap6\\lib\\site-packages\\sklearn\\cluster\\_kmeans.py:786: FutureWarning: 'precompute_distances' was deprecated in version 0.23 and will be removed in 1.0 (renaming of 0.25). It has no effect\n",
      "  warnings.warn(\"'precompute_distances' was deprecated in version \"\n",
      "C:\\Users\\Suzie\\Anaconda3\\envs\\geosnap6\\lib\\site-packages\\scipy\\cluster\\hierarchy.py:834: ClusterWarning: scipy.cluster: The symmetric non-negative hollow observation matrix looks suspiciously like an uncondensed distance matrix\n",
      "  return linkage(y, method='ward', metric='euclidean')\n"
     ]
    },
    {
     "name": "stdout",
     "output_type": "stream",
     "text": [
      "Please run \"NAM_Charlotte_GEOSNAP/index.html\" to your web browser.\n",
      "Advanced options are available in \"NAM_Charlotte_GEOSNAP/data/GEO_CONFIG.js\"\n"
     ]
    }
   ],
   "source": [
    "# LA 31080, San Diego 41740, Albertville 10700, NY 35620\n",
    "param = {\n",
    "    'title': \"Longitudinal Negihborhood Change, Austin, TX\",\n",
    "    #'filename_suffix': \"SD_2_INC_neighborhood\",  \n",
    "    'filename_suffix': \"Charlotte_GEOSNAP\",      \n",
    "    'state_fips': None,\n",
    "    'msa_fips': \"16740\",                         # For more options: http://sarasen.asuscomm.com/LNE/pick_POI.html\n",
    "    'county_fips': None,\n",
    "    'years': [1980, 1990, 2000, 2010],           # Available years: 1970, 1980, 1990, 2000 and 2010\n",
    "    'method': \"kmeans\",                          # Aspatial Clustering: affinity_propagation, gaussian_mixture, hdbscan, kmeans, spectral, ward\n",
    "                                                 # Spatial Clustering: azp, max_p, skater, spenc, ward_spatial   \n",
    "    'nClusters': 6,                              # This option should be commented out for affinity_propagation, hdbscan and max_p \n",
    "    'variables': [\n",
    "          \"p_nonhisp_white_persons\",\n",
    "          \"p_nonhisp_black_persons\",\n",
    "          \"p_hispanic_persons\",\n",
    "          \"p_asian_persons\",\n",
    "          \"p_foreign_born_pop\",\n",
    "          \"p_edu_college_greater\",\n",
    "          \"p_unemployment_rate\",\n",
    "          \"p_employed_manufacturing\",\n",
    "          \"p_poverty_rate\",\n",
    "          \"p_vacant_housing_units\",\n",
    "          \"p_owner_occupied_units\",\n",
    "          \"p_housing_units_multiunit_structures\",\n",
    "          \"median_home_value\",\n",
    "          \"p_structures_30_old\",\n",
    "          \"p_household_recent_move\",\n",
    "          \"p_persons_under_18\",\n",
    "          \"p_persons_over_60\",\t        \n",
    "                 ],\n",
    "    'Sequence': True,\n",
    "    # optional visualization below.\n",
    "    'Index_of_neighborhood_change': False,        #choropleth map: Maps representing index of neighborhood Change\n",
    "    'Maps_of_neighborhood': True,                #choropleth map: Maps representing clustering result\t\t\n",
    "    'Distribution_INC1': False,                   #density chart: INC changes as the map extent changes \n",
    "    'Distribution_INC2_different_period': False,  #density chart: INC changes by different years\n",
    "    'Distribution_INC2_different_cluster': False, #density chart: INC changes by different clusters\n",
    "    'Temporal_change_in_neighborhoods': True,    #stacked chart: Temporal Change in Neighborhoods over years\t\t\n",
    "    'Parallel_Categories_Diagram_in_neighborhoods': True,\n",
    "    'Chord_Diagram_in_neighborhoods': False, \n",
    "}\n",
    "Clustering_viz(param)\n",
    "Clustering_log()"
   ]
  },
  {
   "cell_type": "code",
   "execution_count": null,
   "metadata": {},
   "outputs": [],
   "source": []
  }
 ],
 "metadata": {
  "kernelspec": {
   "display_name": "Python 3 (ipykernel)",
   "language": "python",
   "name": "python3"
  },
  "language_info": {
   "codemirror_mode": {
    "name": "ipython",
    "version": 3
   },
   "file_extension": ".py",
   "mimetype": "text/x-python",
   "name": "python",
   "nbconvert_exporter": "python",
   "pygments_lexer": "ipython3",
   "version": "3.8.17"
  }
 },
 "nbformat": 4,
 "nbformat_minor": 4
}
